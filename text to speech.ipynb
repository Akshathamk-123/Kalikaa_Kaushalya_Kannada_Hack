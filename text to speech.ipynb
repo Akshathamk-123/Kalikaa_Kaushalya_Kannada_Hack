{
 "cells": [
  {
   "cell_type": "code",
   "execution_count": 5,
   "id": "c69da309",
   "metadata": {},
   "outputs": [],
   "source": [
    "import gtts\n",
    "import pyttsx3\n",
    "import googletrans"
   ]
  },
  {
   "cell_type": "code",
   "execution_count": 2,
   "id": "146e3676",
   "metadata": {},
   "outputs": [
    {
     "name": "stdout",
     "output_type": "stream",
     "text": [
      "Collecting gtts\n",
      "  Downloading gTTS-2.3.0-py3-none-any.whl (26 kB)\n",
      "Collecting requests~=2.28.0\n",
      "  Using cached requests-2.28.1-py3-none-any.whl (62 kB)\n",
      "Collecting six~=1.16.0\n",
      "  Using cached six-1.16.0-py2.py3-none-any.whl (11 kB)\n",
      "Collecting click~=8.1.3\n",
      "  Using cached click-8.1.3-py3-none-any.whl (96 kB)\n",
      "Requirement already satisfied: colorama in c:\\users\\admin\\anaconda3\\lib\\site-packages (from click~=8.1.3->gtts) (0.4.4)\n",
      "Collecting charset-normalizer<3,>=2\n",
      "  Downloading charset_normalizer-2.1.1-py3-none-any.whl (39 kB)\n",
      "Requirement already satisfied: idna<4,>=2.5 in c:\\users\\admin\\anaconda3\\lib\\site-packages (from requests~=2.28.0->gtts) (2.10)\n",
      "Requirement already satisfied: certifi>=2017.4.17 in c:\\users\\admin\\anaconda3\\lib\\site-packages (from requests~=2.28.0->gtts) (2022.6.15.1)\n",
      "Requirement already satisfied: urllib3<1.27,>=1.21.1 in c:\\users\\admin\\anaconda3\\lib\\site-packages (from requests~=2.28.0->gtts) (1.26.4)\n",
      "Installing collected packages: charset-normalizer, six, requests, click, gtts\n",
      "  Attempting uninstall: six\n",
      "    Found existing installation: six 1.15.0"
     ]
    },
    {
     "name": "stderr",
     "output_type": "stream",
     "text": [
      "ERROR: pip's dependency resolver does not currently take into account all the packages that are installed. This behaviour is the source of the following dependency conflicts.\n",
      "face-recognition 1.3.0 requires dlib>=19.7, which is not installed.\n",
      "conda-repo-cli 1.0.4 requires pathlib, which is not installed.\n",
      "anaconda-project 0.9.1 requires ruamel-yaml, which is not installed.\n",
      "tensorflow 2.6.0 requires six~=1.15.0, but you have six 1.16.0 which is incompatible.\n"
     ]
    },
    {
     "name": "stdout",
     "output_type": "stream",
     "text": [
      "\n",
      "    Uninstalling six-1.15.0:\n",
      "      Successfully uninstalled six-1.15.0\n",
      "  Attempting uninstall: requests\n",
      "    Found existing installation: requests 2.25.1\n",
      "    Uninstalling requests-2.25.1:\n",
      "      Successfully uninstalled requests-2.25.1\n",
      "  Attempting uninstall: click\n",
      "    Found existing installation: click 7.1.2\n",
      "    Uninstalling click-7.1.2:\n",
      "      Successfully uninstalled click-7.1.2\n",
      "Successfully installed charset-normalizer-2.1.1 click-8.1.3 gtts-2.3.0 requests-2.28.1 six-1.16.0\n"
     ]
    }
   ],
   "source": [
    "!pip install gtts"
   ]
  },
  {
   "cell_type": "code",
   "execution_count": 4,
   "id": "cc1c4ba0",
   "metadata": {},
   "outputs": [
    {
     "name": "stdout",
     "output_type": "stream",
     "text": [
      "Collecting googletrans\n",
      "  Downloading googletrans-3.0.0.tar.gz (17 kB)\n",
      "Collecting httpx==0.13.3\n",
      "  Downloading httpx-0.13.3-py3-none-any.whl (55 kB)\n",
      "Requirement already satisfied: sniffio in c:\\users\\admin\\anaconda3\\lib\\site-packages (from httpx==0.13.3->googletrans) (1.2.0)\n",
      "Collecting httpcore==0.9.*\n",
      "  Downloading httpcore-0.9.1-py3-none-any.whl (42 kB)\n",
      "Collecting hstspreload\n",
      "  Downloading hstspreload-2022.11.1-py3-none-any.whl (1.4 MB)\n",
      "Requirement already satisfied: certifi in c:\\users\\admin\\anaconda3\\lib\\site-packages (from httpx==0.13.3->googletrans) (2022.6.15.1)\n",
      "Collecting rfc3986<2,>=1.3\n",
      "  Downloading rfc3986-1.5.0-py2.py3-none-any.whl (31 kB)\n",
      "Collecting chardet==3.*\n",
      "  Downloading chardet-3.0.4-py2.py3-none-any.whl (133 kB)\n",
      "Requirement already satisfied: idna==2.* in c:\\users\\admin\\anaconda3\\lib\\site-packages (from httpx==0.13.3->googletrans) (2.10)\n",
      "Collecting h11<0.10,>=0.8\n",
      "  Downloading h11-0.9.0-py2.py3-none-any.whl (53 kB)\n",
      "Collecting h2==3.*\n",
      "  Downloading h2-3.2.0-py2.py3-none-any.whl (65 kB)\n",
      "Collecting hpack<4,>=3.0\n",
      "  Downloading hpack-3.0.0-py2.py3-none-any.whl (38 kB)\n",
      "Collecting hyperframe<6,>=5.2.0\n",
      "  Downloading hyperframe-5.2.0-py2.py3-none-any.whl (12 kB)\n",
      "Building wheels for collected packages: googletrans\n",
      "  Building wheel for googletrans (setup.py): started\n",
      "  Building wheel for googletrans (setup.py): finished with status 'done'\n",
      "  Created wheel for googletrans: filename=googletrans-3.0.0-py3-none-any.whl size=15734 sha256=e4ca1fe9db42decdd819d28106c4c6995d24bab9b255c2d7344b1bb2ecb8ae0b\n",
      "  Stored in directory: c:\\users\\admin\\appdata\\local\\pip\\cache\\wheels\\0e\\ce\\9b\\d51de1064911d42480ab6b57fc943ee36572441f27546354e2\n",
      "Successfully built googletrans\n",
      "Installing collected packages: hyperframe, hpack, h2, h11, rfc3986, httpcore, hstspreload, chardet, httpx, googletrans\n",
      "  Attempting uninstall: h11\n",
      "    Found existing installation: h11 0.13.0\n",
      "    Uninstalling h11-0.13.0:\n",
      "      Successfully uninstalled h11-0.13.0\n",
      "  Attempting uninstall: chardet\n",
      "    Found existing installation: chardet 4.0.0\n",
      "    Uninstalling chardet-4.0.0:\n",
      "      Successfully uninstalled chardet-4.0.0\n",
      "Successfully installed chardet-3.0.4 googletrans-3.0.0 h11-0.9.0 h2-3.2.0 hpack-3.0.0 hstspreload-2022.11.1 httpcore-0.9.1 httpx-0.13.3 hyperframe-5.2.0 rfc3986-1.5.0\n"
     ]
    },
    {
     "name": "stderr",
     "output_type": "stream",
     "text": [
      "ERROR: pip's dependency resolver does not currently take into account all the packages that are installed. This behaviour is the source of the following dependency conflicts.\n",
      "spyder 4.2.5 requires pyqtwebengine<5.13, which is not installed.\n",
      "spyder 4.2.5 requires pyqt5<5.13, but you have pyqt5 5.15.7 which is incompatible.\n"
     ]
    }
   ],
   "source": [
    "!pip install googletrans"
   ]
  },
  {
   "cell_type": "code",
   "execution_count": null,
   "id": "b8f3bd78",
   "metadata": {},
   "outputs": [],
   "source": [
    "import gtts\n",
    "import pyttsx3\n",
    "import googletrans"
   ]
  },
  {
   "cell_type": "code",
   "execution_count": 7,
   "id": "ab14e361",
   "metadata": {},
   "outputs": [],
   "source": [
    "import speech_recognition as sr\n",
    "import wikipedia"
   ]
  },
  {
   "cell_type": "code",
   "execution_count": 19,
   "id": "704f1f3d",
   "metadata": {},
   "outputs": [
    {
     "name": "stdout",
     "output_type": "stream",
     "text": [
      "SELECT LANGUAGE:1.ENGLISH\n",
      "2.HINDI\n",
      "3.KANNADA3\n",
      "Recognizing...:\n",
      "You said: ಇದು ಕನ್ನಡ ಹಾಕತಾ ಇದು ಕನ್ನಡ ಕಥೆ\n"
     ]
    }
   ],
   "source": [
    "#import library\n",
    "\n",
    "import speech_recognition as sr\n",
    "import time\n",
    "lan={1:'en-IN',2:'hi-IN',3:'kn-IN'}\n",
    "\n",
    "a=int(input(\"SELECT LANGUAGE:1.ENGLISH\\n2.HINDI\\n3.KANNADA\"))\n",
    "# Initialize recognizer class (for recognizing the speech)\n",
    "if(a not in lan.keys()):\n",
    "    print(\"sorry not available\")\n",
    "else:\n",
    "    r = sr.Recognizer()\n",
    "\n",
    "    # Reading Microphone as source\n",
    "    # listening the speech and store in audio_text variable\n",
    "    start=time.time()\n",
    "    with sr.Microphone() as source:\n",
    "        # read the audio data from the default microphone\n",
    "        audio_data = r.record(source, duration=5)\n",
    "        print(\"Recognizing...:\")\n",
    "        # convert speech to text\n",
    "        \n",
    "        try:\n",
    "            text = r.recognize_google(audio_data,language=lan[a])\n",
    "            print(\"You said:\",text)\n",
    "\n",
    "        except:\n",
    "            print(\"sorry couldnt hear your voice\")\n",
    "    "
   ]
  },
  {
   "cell_type": "code",
   "execution_count": null,
   "id": "1ece0c7f",
   "metadata": {},
   "outputs": [],
   "source": [
    "from gtts import gTTS\n",
    "\n",
    "mytext = 'ಈಸ್ಟರ್ ಹಬ್ಬದ ಶುಭಾಷಯಗಳು'\n",
    "language = 'kn'\n",
    "\n",
    "myobj = gTTS(text=mytext, lang=language, slow=False)\n",
    "# save to local folder:\n",
    "myobj.save(\"easter_female_voice.mp3\")"
   ]
  }
 ],
 "metadata": {
  "kernelspec": {
   "display_name": "Python 3",
   "language": "python",
   "name": "python3"
  },
  "language_info": {
   "codemirror_mode": {
    "name": "ipython",
    "version": 3
   },
   "file_extension": ".py",
   "mimetype": "text/x-python",
   "name": "python",
   "nbconvert_exporter": "python",
   "pygments_lexer": "ipython3",
   "version": "3.8.8"
  },
  "vscode": {
   "interpreter": {
    "hash": "55624d9997eeab1179dbd8a865a020068af80d2b214a03720d8a28de42b8cd8a"
   }
  }
 },
 "nbformat": 4,
 "nbformat_minor": 5
}
